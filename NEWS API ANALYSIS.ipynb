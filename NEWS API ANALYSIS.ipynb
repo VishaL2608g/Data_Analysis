{
 "cells": [
  {
   "cell_type": "code",
   "execution_count": 1,
   "id": "af646b2b",
   "metadata": {},
   "outputs": [],
   "source": [
    "import pandas as pd\n",
    "from bs4 import BeautifulSoup\n",
    "import requests \n",
    "import re\n",
    "import urllib.request as urlr"
   ]
  },
  {
   "cell_type": "code",
   "execution_count": 2,
   "id": "d8dda6a1",
   "metadata": {},
   "outputs": [],
   "source": [
    "url='https://newsapi.org/v2/top-headlines?country=in&category=entertainment&apiKey=5095b78ca3824bf3a4fc3bbbfda29e55'"
   ]
  },
  {
   "cell_type": "code",
   "execution_count": 3,
   "id": "8e5e4ebc",
   "metadata": {},
   "outputs": [],
   "source": [
    "raw=urlr.urlopen(url)"
   ]
  },
  {
   "cell_type": "code",
   "execution_count": 4,
   "id": "fe7ca4bc",
   "metadata": {},
   "outputs": [],
   "source": [
    "import json"
   ]
  },
  {
   "cell_type": "code",
   "execution_count": 5,
   "id": "a77a6586",
   "metadata": {},
   "outputs": [
    {
     "name": "stdout",
     "output_type": "stream",
     "text": [
      "From alcohol addiction to going bankrupt: When Kaun Banega Crorepati's Rs 5 crore winner Sushil Kumar recalled 'worst phase of his life' - IndiaTimes\n"
     ]
    }
   ],
   "source": [
    "myjson=raw.read()\n",
    "data=json.loads(myjson.decode()) # decode() converts json data format to string data format\n",
    "print(data['articles'][0]['title']) # json.Load()accept only string data format"
   ]
  },
  {
   "cell_type": "code",
   "execution_count": 6,
   "id": "6f713dee",
   "metadata": {},
   "outputs": [
    {
     "name": "stdout",
     "output_type": "stream",
     "text": [
      "Headline1 is :\n",
      "From alcohol addiction to going bankrupt: When Kaun Banega Crorepati's Rs 5 crore winner Sushil Kumar recalled 'worst phase of his life' - IndiaTimes\n",
      "Headline2 is :\n",
      "Barbie vs Oppenheimer: Both films exceed expectations as box office frontrunner emerges - The Independent\n",
      "Headline3 is :\n",
      "Mom Kareena Kapoor Smiles As Husband Saif Ali Khan Goes Fishing With Sons Jeh And Taimur - NDTV Movies\n",
      "Headline4 is :\n",
      "30 years of Hum Hain Rahi Pyaar Ke: Dalip Tahil reveals Aamir Khan was the one to cast him in the film - Hindustan Times\n",
      "Headline5 is :\n",
      "Urfi Javed harassed by a group of 'drunk men' on flight to Goa: 'They said nasty things, eve teased and called names' - Times of India\n"
     ]
    }
   ],
   "source": [
    "for i in range(0,5):\n",
    "    print('Headline'+str(i+1)+' is :')\n",
    "    print(data['articles'][i]['title'])"
   ]
  },
  {
   "cell_type": "code",
   "execution_count": 7,
   "id": "ce3ca00e",
   "metadata": {},
   "outputs": [
    {
     "name": "stdout",
     "output_type": "stream",
     "text": [
      "Description1is:\n",
      "In the fifth season of the quiz show Kaun Banega Crorepati, hosted by megastar Amitabh Bachchan, Sushil Kumar took over the grand prize of Rs 5 crore. While winning such a sizable award could make someone think they had the life of their dreams, it could also…\n",
      "\n",
      "Content is:\n",
      "Sushil shared that he almost got divorced due to a huge fight, he revealed \"Meanwhile, my wife and I had a huge spat after which, she left for her maternal home and asked for a divorce. It was then t… [+656 chars]\n",
      "\n",
      "Description2is:\n",
      "‘Barbie’ starring Margot Robbie and Ryan Gosling, and ‘Oppenheimer’ starring Cillian Murphy and Florence Pugh, are both out now in cinemas\n",
      "\n",
      "Content is:\n",
      "Get our free weekly email for all the latest cinematic news from our film critic Clarisse Loughrey\r\n",
      "Get our The Life Cinematic email for free\r\n",
      "Cinemas around the world are busier than ever thanks to … [+7052 chars]\n",
      "\n",
      "Description3is:\n",
      "In the second picture, we can see Saif Ali Khan, fixing bait to a fishing pole with little Jeh beside him\n",
      "\n",
      "Content is:\n",
      "Image shared on Instagram. (Courtesy: kareenakapoorteam )\r\n",
      "New day, new pictures of the Khan clan from their long summer retreat in Europe. Star couple Kareena Kapoor and Saif Ali Khan are living the… [+1819 chars]\n",
      "\n",
      "Description4is:\n",
      "Actor Dalip Tahil, who played the role of Mr. Bijlani in Hum Hain Rahi Pyar Ke, says that he wasn’t sure he would be able to pull off this Sindhi character with negative shades. | Bollywood\n",
      "\n",
      "Content is:\n",
      "Actor Dalip Tahil, who essayed the role of Mr Bijlani -- a shrewd and cunning Sindhi businessman -- in Hum Hain Rahi Pyar Ke, gives credit to the films lead actor Aamir Khan (who played the role of R… [+2995 chars]\n",
      "\n",
      "Description5is:\n",
      "Internet sensation Urfi Javed, known for her DIY outfits and flaunting her glamorous look, recently faced a horrifying experience on a flight. Taking to her Instagram handle, the actress, who was on her way to Goa from Mumbai, shared a video from ins\n",
      "\n",
      "Content is:\n",
      "Jul 23, 2023, 12:43PM ISTSource: etimes.inInternet sensation Urfi Javed, known for her DIY outfits and flaunting her glamorous look, recently faced a horrifying experience on a flight. Taking to her … [+1044 chars]\n",
      "\n"
     ]
    }
   ],
   "source": [
    "for i in range(0,5):\n",
    "    print('Description'+str(i+1)+'is:')\n",
    "    print(data['articles'][i]['description'])\n",
    "    print('\\nContent is:')\n",
    "    print(data['articles'][i]['content'])\n",
    "    print()"
   ]
  },
  {
   "cell_type": "markdown",
   "id": "7f58e4f1",
   "metadata": {},
   "source": [
    "# Storig Data in text file by use of FILE :-"
   ]
  },
  {
   "cell_type": "code",
   "execution_count": 8,
   "id": "178af792",
   "metadata": {},
   "outputs": [],
   "source": [
    "for i in range(len(data['articles'])):\n",
    "    obj=open('data1.text','a')\n",
    "    res='\\nHedline'+str(i+1)+'is:'\n",
    "    obj.write(res)\n",
    "    res='\\n'+data['articles'][i]['title']+'\\n'\n",
    "    obj.write(url)"
   ]
  },
  {
   "cell_type": "code",
   "execution_count": 9,
   "id": "d35a9f35",
   "metadata": {},
   "outputs": [],
   "source": [
    "for i in range(len(data['articles'])):\n",
    "    obj=open('data2.txt','a')\n",
    "    res=data['articles'][i]['description']\n",
    "    if(res!=None):\n",
    "        obj.write(res+'\\n')"
   ]
  },
  {
   "cell_type": "code",
   "execution_count": 10,
   "id": "4d56e87c",
   "metadata": {},
   "outputs": [],
   "source": [
    "for i in range(len(data['articles'])):\n",
    "    obj=open('data2.txt','a')\n",
    "    res=data['articles'][i]['urlToImage']\n",
    "    if(res!=None):\n",
    "        obj.write(res+'\\n')"
   ]
  },
  {
   "cell_type": "code",
   "execution_count": 11,
   "id": "5b97baf8",
   "metadata": {},
   "outputs": [],
   "source": [
    "for i in range(len(data['articles'])):\n",
    "    obj=open('data4.txt','a')\n",
    "    res='\\nUrl_Image'+str(i+1)+'is:\\n'\n",
    "    obj.write(res)\n",
    "    res=data['articles'][i]['url']\n",
    "    if(res!=None):\n",
    "        obj.write(res+'\\n')"
   ]
  },
  {
   "cell_type": "code",
   "execution_count": 12,
   "id": "a97e5f9a",
   "metadata": {},
   "outputs": [],
   "source": [
    "for i in range (len(data['articles'])):\n",
    "    obj=open('data4.txt','a')\n",
    "    res='\\nURL'+str(i+1)+'is :\\n'\n",
    "    obj.write(res)\n",
    "    res=data['articles'][i]['url']\n",
    "    if(res!=None):\n",
    "        obj.write(res+'\\n')"
   ]
  },
  {
   "cell_type": "code",
   "execution_count": null,
   "id": "8169b5a0",
   "metadata": {},
   "outputs": [],
   "source": []
  }
 ],
 "metadata": {
  "kernelspec": {
   "display_name": "Python 3 (ipykernel)",
   "language": "python",
   "name": "python3"
  },
  "language_info": {
   "codemirror_mode": {
    "name": "ipython",
    "version": 3
   },
   "file_extension": ".py",
   "mimetype": "text/x-python",
   "name": "python",
   "nbconvert_exporter": "python",
   "pygments_lexer": "ipython3",
   "version": "3.9.12"
  }
 },
 "nbformat": 4,
 "nbformat_minor": 5
}
